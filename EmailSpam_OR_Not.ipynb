{
 "cells": [
  {
   "cell_type": "code",
   "execution_count": 3,
   "id": "4dfe6e31-02de-41ce-bd76-20de896ee693",
   "metadata": {},
   "outputs": [],
   "source": [
    "import pandas as pd\n",
    "import numpy as np\n",
    "import matplotlib.pyplot as plt\n",
    "import seaborn as sns\n",
    "from sklearn.model_selection import train_test_split\n",
    "from sklearn.linear_model import LogisticRegression  \n",
    "from sklearn.feature_extraction.text import CountVectorizer"
   ]
  },
  {
   "cell_type": "code",
   "execution_count": 4,
   "id": "a3cf2a3e-c368-40a4-a7f4-6bf51e14d1ad",
   "metadata": {},
   "outputs": [],
   "source": [
    "df = pd.read_csv('D:\\pythonProject1\\spam_or_not_spam.csv')"
   ]
  },
  {
   "cell_type": "code",
   "execution_count": null,
   "id": "658a059c-456e-4886-8604-3ccff2a36a7b",
   "metadata": {},
   "outputs": [],
   "source": []
  },
  {
   "cell_type": "code",
   "execution_count": 6,
   "id": "c6af40e2-c2c8-4c1f-a6e0-424d8e4dd479",
   "metadata": {},
   "outputs": [],
   "source": [
    "# Data Cleaning\n",
    "df = df.drop_duplicates()\n"
   ]
  },
  {
   "cell_type": "code",
   "execution_count": 7,
   "id": "9a20578e-0260-40b6-889a-890bd2ee4582",
   "metadata": {},
   "outputs": [
    {
     "name": "stdout",
     "output_type": "stream",
     "text": [
      "Index([2966], dtype='int64')\n"
     ]
    },
    {
     "data": {
      "text/plain": [
       "732     i ve seen articles on this type of stuff passi...\n",
       "2096    url URL date NUMBER NUMBER NUMBERtNUMBER NUMBE...\n",
       "1293    if anyone here is running null beta then you m...\n",
       "1743    we ve not only reduced the f p and f n rates i...\n",
       "941     i got to see powell talk in march NUMBER at th...\n",
       "                              ...                        \n",
       "1892    url URL date not supplied ben hammersley posts...\n",
       "163     rohit khare wrote why am i so passionate about...\n",
       "1922    url URL date wed NUMBER sep NUMBER NUMBER NUMB...\n",
       "252     hello again i tried all the suggestions for th...\n",
       "1996    url URL date NUMBER NUMBER NUMBERtNUMBER NUMBE...\n",
       "Name: email, Length: 575, dtype: object"
      ]
     },
     "execution_count": 7,
     "metadata": {},
     "output_type": "execute_result"
    }
   ],
   "source": [
    "\n",
    "x = df['email']\n",
    "y = df['label']\n",
    "print(x[x.isna()].index)         # Index of Na containing string\n",
    "\n",
    "x = x.fillna(\"\")\n",
    "x_train,x_test,y_train,y_test = train_test_split(x,y,train_size = 0.8,random_state = 42)  \n",
    "x_test"
   ]
  },
  {
   "cell_type": "code",
   "execution_count": 22,
   "id": "59a22ac3-71d5-4cad-a363-30186afdb9d4",
   "metadata": {},
   "outputs": [
    {
     "name": "stdout",
     "output_type": "stream",
     "text": [
      "Accuracy_Score of Model is: 0.9878260869565217\n",
      "Value: [1]\n",
      "Spam\n"
     ]
    }
   ],
   "source": [
    "count_vec = CountVectorizer()       #Changing the string into a counting  vector\n",
    "x_train_vector = count_vec.fit_transform(x_train)\n",
    "x_test_vector = count_vec.transform(x_test)\n",
    "\n",
    "# ModelCreation\n",
    "\n",
    "log_model = LogisticRegression(max_iter=1000, class_weight='balanced')\n",
    "log_model.fit(x_train_vector,y_train)                # Training the model\n",
    "\n",
    "\n",
    "# Testing the model\n",
    "from sklearn.metrics import accuracy_score\n",
    "prediction = log_model.predict(x_test_vector)\n",
    "value = accuracy_score(y_test,prediction)\n",
    "print('Accuracy_Score of Model is:',value)\n",
    "\n",
    "# Applying Model in a Real World Data\n",
    "\n",
    "message = count_vec.transform(['Its ok, Not to worry very much.You have been selected as our winner of the Lottery.']).toarray()\n",
    "value = log_model.predict(message)\n",
    "print('Value:',value)\n",
    "if value == [1]:\n",
    "    print(\"Spam\")\n",
    "else:\n",
    "    print(\"Not-Spam\")"
   ]
  },
  {
   "cell_type": "code",
   "execution_count": null,
   "id": "8af619b3-1ad2-4cbe-9c9a-9151f7e2f3a9",
   "metadata": {},
   "outputs": [],
   "source": []
  },
  {
   "cell_type": "code",
   "execution_count": null,
   "id": "43bb1ee3-2454-444e-9d06-ada148e1c64e",
   "metadata": {},
   "outputs": [],
   "source": []
  },
  {
   "cell_type": "code",
   "execution_count": null,
   "id": "12b7b914-0c77-498a-a451-c05a223c9684",
   "metadata": {},
   "outputs": [],
   "source": []
  },
  {
   "cell_type": "code",
   "execution_count": null,
   "id": "ba329ad6-5d19-4bfe-ba21-51df77bd2ff5",
   "metadata": {},
   "outputs": [],
   "source": []
  },
  {
   "cell_type": "code",
   "execution_count": null,
   "id": "18c9365f-af6a-440e-bed3-1233f9dd13b8",
   "metadata": {},
   "outputs": [],
   "source": []
  },
  {
   "cell_type": "code",
   "execution_count": null,
   "id": "b2cc1f39-1f44-4844-b61b-0126626bf5af",
   "metadata": {},
   "outputs": [],
   "source": []
  },
  {
   "cell_type": "code",
   "execution_count": null,
   "id": "9a5d2509-3e19-405b-b5f0-edb5ae60d1a3",
   "metadata": {},
   "outputs": [],
   "source": []
  },
  {
   "cell_type": "code",
   "execution_count": null,
   "id": "62e474e8-f33d-42dc-8a96-0c88e8dc35c5",
   "metadata": {},
   "outputs": [],
   "source": []
  },
  {
   "cell_type": "code",
   "execution_count": 15,
   "id": "4abc3188-81aa-4bb4-93d7-7b8acb809450",
   "metadata": {},
   "outputs": [],
   "source": []
  },
  {
   "cell_type": "code",
   "execution_count": null,
   "id": "7fff9ff8-00be-4ec9-94c9-b45ddac8530d",
   "metadata": {},
   "outputs": [],
   "source": []
  },
  {
   "cell_type": "code",
   "execution_count": null,
   "id": "cf077b29-adb6-4e65-8558-71e9b341e3e1",
   "metadata": {},
   "outputs": [],
   "source": []
  },
  {
   "cell_type": "code",
   "execution_count": null,
   "id": "ebe0cf6f-85c7-4f4c-85e8-c27ef4dfd44d",
   "metadata": {},
   "outputs": [],
   "source": []
  },
  {
   "cell_type": "code",
   "execution_count": null,
   "id": "c4ef8607-e29f-4e51-a1aa-0a60cc04025d",
   "metadata": {},
   "outputs": [],
   "source": []
  },
  {
   "cell_type": "code",
   "execution_count": null,
   "id": "1c25d47a-4c0f-4ebc-afa5-5f7519179bd9",
   "metadata": {},
   "outputs": [],
   "source": []
  },
  {
   "cell_type": "code",
   "execution_count": null,
   "id": "069c6505-8fa7-4f23-8dfb-1d159b21f70b",
   "metadata": {},
   "outputs": [],
   "source": []
  },
  {
   "cell_type": "code",
   "execution_count": null,
   "id": "4c7d1aa4-84f5-4cb4-b643-128bedc29a0a",
   "metadata": {},
   "outputs": [],
   "source": []
  },
  {
   "cell_type": "code",
   "execution_count": null,
   "id": "076a9ed7-b6f0-4b48-aecb-5f9e3baaf659",
   "metadata": {},
   "outputs": [],
   "source": []
  },
  {
   "cell_type": "code",
   "execution_count": null,
   "id": "fdb5981b-d94b-4f75-8e8c-e31d07cd357d",
   "metadata": {},
   "outputs": [],
   "source": []
  }
 ],
 "metadata": {
  "kernelspec": {
   "display_name": "Python [conda env:base] *",
   "language": "python",
   "name": "conda-base-py"
  },
  "language_info": {
   "codemirror_mode": {
    "name": "ipython",
    "version": 3
   },
   "file_extension": ".py",
   "mimetype": "text/x-python",
   "name": "python",
   "nbconvert_exporter": "python",
   "pygments_lexer": "ipython3",
   "version": "3.11.7"
  }
 },
 "nbformat": 4,
 "nbformat_minor": 5
}
